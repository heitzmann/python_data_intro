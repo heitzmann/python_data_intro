{
 "cells": [
  {
   "cell_type": "markdown",
   "metadata": {},
   "source": [
    "# Transmissão entre Antenas\n",
    "\n",
    "![Experimento](transmissao/experimento.jpg)\n",
    "\n",
    "Nesse experimento verificamos a formação de uma onda estacionária entre antenas transmissora e receptora.\n",
    "\n",
    "A partir da distância entre picos (ou vales) é possível determinarmos a frequência do sinal transmitido."
   ]
  },
  {
   "cell_type": "code",
   "execution_count": null,
   "metadata": {
    "collapsed": true
   },
   "outputs": [],
   "source": [
    "# Import necessary modules\n",
    "import numpy\n",
    "from matplotlib import pyplot\n",
    "\n",
    "# Only in Jupyter Notebooks\n",
    "%matplotlib notebook"
   ]
  },
  {
   "cell_type": "markdown",
   "metadata": {},
   "source": [
    "Os dados estão armazenados em um arquivo CSV (*comma-separated values*).\n",
    "\n",
    "Usamos o comando `%cat` (Jupyter Notebook ou terminal IPython) para mostrar o conteúdo de arquivos locais."
   ]
  },
  {
   "cell_type": "code",
   "execution_count": null,
   "metadata": {
    "scrolled": false
   },
   "outputs": [],
   "source": [
    "%cat transmissao/dados.csv"
   ]
  },
  {
   "cell_type": "markdown",
   "metadata": {},
   "source": [
    "É possível ler arquivos em python diretamente, mas teríamos que interpretar e converter os dados manualmente.\n",
    "\n",
    "```python\n",
    "data = []\n",
    "with open('transmissao/dados.csv') as infile:\n",
    "    print(infile.readline())\n",
    "    for line in infile:\n",
    "        data.append([float(i) for i in line.split(';')])\n",
    "data = numpy.array(data)\n",
    "```\n",
    "\n",
    "Contudo o módulo numpy oferece a função `loadtxt` para esse fim.\n",
    "Além de mais simples, ela é também mais rápida."
   ]
  },
  {
   "cell_type": "code",
   "execution_count": null,
   "metadata": {
    "collapsed": true,
    "scrolled": true
   },
   "outputs": [],
   "source": [
    "numpy.loadtxt?"
   ]
  },
  {
   "cell_type": "code",
   "execution_count": null,
   "metadata": {
    "scrolled": false
   },
   "outputs": [],
   "source": [
    "data = numpy.loadtxt('transmissao/dados.csv', delimiter=';', skiprows=1)\n",
    "data"
   ]
  },
  {
   "cell_type": "code",
   "execution_count": null,
   "metadata": {},
   "outputs": [],
   "source": [
    "data.shape"
   ]
  },
  {
   "cell_type": "code",
   "execution_count": null,
   "metadata": {},
   "outputs": [],
   "source": [
    "data[0, :]"
   ]
  },
  {
   "cell_type": "code",
   "execution_count": null,
   "metadata": {},
   "outputs": [],
   "source": [
    "data[0, :].shape"
   ]
  },
  {
   "cell_type": "markdown",
   "metadata": {},
   "source": [
    "Separamos os valores de distância da 1ª coluna no vetor `x` e as medidas em `v`:"
   ]
  },
  {
   "cell_type": "code",
   "execution_count": null,
   "metadata": {},
   "outputs": [],
   "source": [
    "x = data[:, 0]\n",
    "x"
   ]
  },
  {
   "cell_type": "code",
   "execution_count": null,
   "metadata": {},
   "outputs": [],
   "source": [
    "v = data[:, 1:]\n",
    "v"
   ]
  },
  {
   "cell_type": "code",
   "execution_count": null,
   "metadata": {},
   "outputs": [],
   "source": [
    "fig, ax = pyplot.subplots(1, 1)\n",
    "\n",
    "ax.plot(x, v[:, 0], '.')\n",
    "ax.plot(x, v[:, 1], '.')\n",
    "ax.plot(x, v[:, 2], '.')"
   ]
  },
  {
   "cell_type": "markdown",
   "metadata": {},
   "source": [
    "Podemos analisar os dados em termos de médias e desvios padrão:"
   ]
  },
  {
   "cell_type": "code",
   "execution_count": null,
   "metadata": {},
   "outputs": [],
   "source": [
    "v0 = v[0, :]\n",
    "print(v0, numpy.mean(v0), numpy.std(v0))"
   ]
  },
  {
   "cell_type": "code",
   "execution_count": null,
   "metadata": {},
   "outputs": [],
   "source": [
    "%%timeit\n",
    "y = numpy.zeros(len(x))\n",
    "for i in range(len(x)):\n",
    "    y[i] = numpy.mean(v[i, :])"
   ]
  },
  {
   "cell_type": "code",
   "execution_count": null,
   "metadata": {},
   "outputs": [],
   "source": [
    "%%timeit\n",
    "y = numpy.mean(v, axis=1)"
   ]
  },
  {
   "cell_type": "code",
   "execution_count": null,
   "metadata": {},
   "outputs": [],
   "source": [
    "y = numpy.mean(v, axis=1)\n",
    "e = numpy.std(v, axis=1)\n",
    "e.shape"
   ]
  },
  {
   "cell_type": "code",
   "execution_count": null,
   "metadata": {},
   "outputs": [],
   "source": [
    "fig, ax = pyplot.subplots(1, 1)\n",
    "\n",
    "ax.errorbar(x, y, e, capsize=3)\n",
    "\n",
    "ax.set_xlabel('Distance (mm)')\n",
    "ax.set_ylabel('Signal (normalized)')\n",
    "\n",
    "ax.grid()"
   ]
  },
  {
   "cell_type": "markdown",
   "metadata": {},
   "source": [
    "Há mais de uma maneira de buscar a distância entre máximos.\n",
    "Simplesmente olhar para o gráfico é uma delas, mas imagine que temos centenas ou milhares desses conjuntos de dados.\n",
    "Nesse caso é melhor buscarmos um método mais automático de análise.\n",
    "\n",
    "Devido ao ruído, usar simplesmente `numpy.max` pode resultar em baixa precisão.\n",
    "\n",
    "Outra opção é usar algum tipo de filtragem (o módulo `scipy.signal` possui diversas opções de filtros), mas também funcionaria melhor se tivéssemos maior densidade de pontos.\n",
    "\n",
    "Para os dados disponíveis, podemos usar o fato de que o sinal é quase senoidal e usar a transformada discreta de Fourier para determinar o coeficiente de maior magnitude (excluindo a frequência 0)."
   ]
  },
  {
   "cell_type": "code",
   "execution_count": null,
   "metadata": {},
   "outputs": [],
   "source": [
    "c = numpy.abs(numpy.fft.rfft(y))\n",
    "k = numpy.fft.rfftfreq(len(y), x[1] - x[0])\n",
    "\n",
    "fig, ax = pyplot.subplots(1, 1)\n",
    "\n",
    "ax.semilogy(k, c, 'o-')\n",
    "\n",
    "ax.set_xlabel('Spacial frequency (mm⁻¹)')\n",
    "ax.set_ylabel('Fourier coeff. magnitude')"
   ]
  },
  {
   "cell_type": "code",
   "execution_count": null,
   "metadata": {
    "collapsed": true
   },
   "outputs": [],
   "source": [
    "numpy.argmax?"
   ]
  },
  {
   "cell_type": "code",
   "execution_count": null,
   "metadata": {},
   "outputs": [],
   "source": [
    "i = numpy.argmax(c[1:]) + 1\n",
    "i"
   ]
  },
  {
   "cell_type": "code",
   "execution_count": null,
   "metadata": {
    "collapsed": true
   },
   "outputs": [],
   "source": [
    "ax.annotate?"
   ]
  },
  {
   "cell_type": "code",
   "execution_count": null,
   "metadata": {},
   "outputs": [],
   "source": [
    "fig, ax = pyplot.subplots(1, 1)\n",
    "\n",
    "ax.semilogy(k, c, '.-')\n",
    "ax.annotate(xy=(k[i], c[i]), s='Max.',\n",
    "            xytext=(k[i] + 0.05, c[i] * 0.7),\n",
    "            arrowprops={'arrowstyle': '->'})\n",
    "\n",
    "ax.set_xlabel('Spacial frequency (mm⁻¹)')\n",
    "ax.set_ylabel('Fourier coeff. magnitude')\n",
    "\n",
    "lda = 2 / k\n",
    "f = 3e8 / (lda * 1e-3)\n",
    "print('Frequency: ({:.1f} ± {:.1f}) GHz'.format(f[i]*1e-9, (f[i+1] - f[i-1]) / 2e9))"
   ]
  },
  {
   "cell_type": "markdown",
   "metadata": {},
   "source": [
    "Aqui também a esparcidade de dados limita a precisão.\n",
    "\n",
    "A solução neste caso é usar nosso conhecimento do experimento: sabemos que uma onda estacionária tem distribuição espacial de potência senoidal.\n",
    "Portanto, podemos ajustar um modelo aos dados e assim determinar a frequência da melhor senoide que reproduz os dados coletados (similarmente ao que fizemos com o ajuste linear usando `numpy.polyfit`)."
   ]
  },
  {
   "cell_type": "code",
   "execution_count": null,
   "metadata": {
    "collapsed": true
   },
   "outputs": [],
   "source": [
    "from scipy.optimize import curve_fit\n",
    "\n",
    "curve_fit?"
   ]
  },
  {
   "cell_type": "markdown",
   "metadata": {},
   "source": [
    "Nosso modelo deve ser uma função da posição e dos parâmetros que queremos otimizar.\n",
    "Por se tratar de um problema não-linear, é preciso dar um chute inicial razoável para o algoritmo de ajuste."
   ]
  },
  {
   "cell_type": "code",
   "execution_count": null,
   "metadata": {},
   "outputs": [],
   "source": [
    "def model(x, k, a, x0, y0):\n",
    "    return y0 + a * numpy.sin(2*numpy.pi*k*(x - x0))\n",
    "\n",
    "model(0.25, 1, 1, 0, 0)"
   ]
  },
  {
   "cell_type": "code",
   "execution_count": null,
   "metadata": {},
   "outputs": [],
   "source": [
    "model(numpy.array([0, 0.25, 0.5, 0.75, 1]), 1, 1, 0, 0)"
   ]
  },
  {
   "cell_type": "code",
   "execution_count": null,
   "metadata": {},
   "outputs": [],
   "source": [
    "init = (0.08, 0.2, 291, 0.75)\n",
    "\n",
    "fit_x = numpy.linspace(x[0], x[-1], 201)\n",
    "\n",
    "init_y = model(fit_x, *init)\n",
    "\n",
    "fig, ax = pyplot.subplots(1, 1)\n",
    "\n",
    "ax.errorbar(x, y, e, capsize=3, ls='', marker='.')\n",
    "ax.plot(fit_x, init_y)"
   ]
  },
  {
   "cell_type": "code",
   "execution_count": null,
   "metadata": {},
   "outputs": [],
   "source": [
    "opt, cov = curve_fit(model, x, y, init)\n",
    "\n",
    "opt, numpy.sqrt(numpy.diag(cov))"
   ]
  },
  {
   "cell_type": "code",
   "execution_count": null,
   "metadata": {},
   "outputs": [],
   "source": [
    "fit_y = model(fit_x, *opt)\n",
    "\n",
    "fig, ax = pyplot.subplots(1, 1)\n",
    "\n",
    "ax.errorbar(x, y, e, capsize=3, ls='', marker='.')\n",
    "ax.plot(fit_x, fit_y)\n",
    "\n",
    "ax.set_xlabel('Distance (mm)')\n",
    "ax.set_ylabel('Signal (normalized)')\n",
    "\n",
    "ax.grid()"
   ]
  },
  {
   "cell_type": "markdown",
   "metadata": {},
   "source": [
    "Conhecendo o modelo, sabemos qua a distância entre máximos é a metade do comprimento de onda do sinal transmitido."
   ]
  },
  {
   "cell_type": "code",
   "execution_count": null,
   "metadata": {},
   "outputs": [],
   "source": [
    "lda = 2 / opt[0]\n",
    "f = 3e8 / (lda * 1e-3)\n",
    "print('Frequency: {:.1f} GHz'.format(f*1e-9))"
   ]
  },
  {
   "cell_type": "markdown",
   "metadata": {},
   "source": [
    "## Exercício\n",
    "\n",
    "Modifique o modelo para usar diretamente a frequência do sinal, possibilitando a determinação da confiabilidade desse parâmetro diretamente da matriz de covariância."
   ]
  },
  {
   "cell_type": "code",
   "execution_count": null,
   "metadata": {
    "collapsed": true
   },
   "outputs": [],
   "source": []
  },
  {
   "cell_type": "markdown",
   "metadata": {},
   "source": [
    "Podemos usar um modelo mais físico para resolver o problema:"
   ]
  },
  {
   "cell_type": "code",
   "execution_count": null,
   "metadata": {},
   "outputs": [],
   "source": [
    "def model2(x, f, a, e0, g, p0, p1):\n",
    "    phi = (a + 6.67e-3j * numpy.pi * f) * (x - 280)\n",
    "    y = e0 * (numpy.exp(1j * p0 - phi) + g * numpy.exp(1j * p1 + phi))\n",
    "    return numpy.abs(y)**2\n",
    "\n",
    "init2 = (10, 0.001, 0.9, 0.1, 0, 0)\n",
    "opt2, cov2 = curve_fit(model2, x, y, init2)\n",
    "\n",
    "init_y2 = model2(fit_x, *init2)\n",
    "fit_y2 = model2(fit_x, *opt2)\n",
    "\n",
    "fig, ax = pyplot.subplots(2, 1, figsize=(6, 6))\n",
    "\n",
    "for a in ax:\n",
    "    a.errorbar(x, y, e, capsize=3, ls='', marker='.')\n",
    "    a.set_ylabel('Signal (normalized)')\n",
    "    a.grid()\n",
    "ax[1].set_xlabel('Distance (mm)')\n",
    "\n",
    "ax[0].plot(fit_x, init_y2)\n",
    "ax[1].plot(fit_x, fit_y2)\n",
    "\n",
    "print('Frequency: ({:.2f} ± {:.2f}) GHz'.format(opt2[0], cov2[0, 0]**0.5))"
   ]
  }
 ],
 "metadata": {
  "kernelspec": {
   "display_name": "Python 3",
   "language": "python",
   "name": "python3"
  },
  "language_info": {
   "codemirror_mode": {
    "name": "ipython",
    "version": 3
   },
   "file_extension": ".py",
   "mimetype": "text/x-python",
   "name": "python",
   "nbconvert_exporter": "python",
   "pygments_lexer": "ipython3",
   "version": "3.6.2"
  }
 },
 "nbformat": 4,
 "nbformat_minor": 2
}
