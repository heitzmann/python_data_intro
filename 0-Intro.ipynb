{
 "cells": [
  {
   "cell_type": "markdown",
   "metadata": {},
   "source": [
    "# Introdução a Análise de Dados em Python\n",
    "\n",
    "*Lucas H. Gabrielli*, [lucashg@fee.unicamp.br](mailto:lucashg@fee.unicamp.br) — Ago 2017\n",
    "\n",
    "**Objetivo**: transformar\n",
    "\n",
    "![Foto da tela do instrumento](intro/foto.jpg)\n",
    "\n",
    "em\n",
    "\n",
    "![Gráfico de boa qualidade](intro/figura.png)\n",
    "\n",
    "Como bônus, falaremos também sobre ajuste de modelos e, se possível, tratamento de dados ruidosos."
   ]
  },
  {
   "cell_type": "markdown",
   "metadata": {},
   "source": [
    "## Primeiros Passos\n",
    "\n",
    "- Use `Enter` e `Esc` para entrar e sair do modo edição de celulas (borda verde)\n",
    "- Para executar qualquer célula use `Ctrl + Enter` ou `Shift + Enter`\n",
    "- Em modo de comando (borda azul):\n",
    "  - `a`: cria célula acima \n",
    "  - `b`: cria célula abaixo\n",
    "  - `c`, `x`, `v`: copia, corta e cola célula\n",
    "\n",
    "Outras informações e atalhos podem ser encontardos no menu de ajuda."
   ]
  },
  {
   "cell_type": "code",
   "execution_count": null,
   "metadata": {
    "collapsed": true
   },
   "outputs": [],
   "source": [
    "(1 + 1j)**2"
   ]
  },
  {
   "cell_type": "code",
   "execution_count": null,
   "metadata": {
    "collapsed": true
   },
   "outputs": [],
   "source": [
    "h = 'Hello'\n",
    "print(h + ' World!')"
   ]
  },
  {
   "cell_type": "code",
   "execution_count": null,
   "metadata": {
    "collapsed": true
   },
   "outputs": [],
   "source": [
    "num = [1, 2, 3, 4, 5, 6, 7, 8, 9, 10]\n",
    "len(num)"
   ]
  },
  {
   "cell_type": "code",
   "execution_count": null,
   "metadata": {
    "collapsed": true
   },
   "outputs": [],
   "source": [
    "num[0]"
   ]
  },
  {
   "cell_type": "code",
   "execution_count": null,
   "metadata": {
    "collapsed": true
   },
   "outputs": [],
   "source": [
    "num[len(num) - 1]"
   ]
  },
  {
   "cell_type": "code",
   "execution_count": null,
   "metadata": {
    "collapsed": true
   },
   "outputs": [],
   "source": [
    "num[-1]"
   ]
  },
  {
   "cell_type": "code",
   "execution_count": null,
   "metadata": {
    "collapsed": true
   },
   "outputs": [],
   "source": [
    "num[1:7]"
   ]
  },
  {
   "cell_type": "code",
   "execution_count": null,
   "metadata": {
    "collapsed": true
   },
   "outputs": [],
   "source": [
    "num[1:7:2]"
   ]
  },
  {
   "cell_type": "code",
   "execution_count": null,
   "metadata": {
    "collapsed": true
   },
   "outputs": [],
   "source": [
    "for n in num:\n",
    "    print(n)"
   ]
  },
  {
   "cell_type": "code",
   "execution_count": null,
   "metadata": {
    "collapsed": true
   },
   "outputs": [],
   "source": [
    "for i in range(5):\n",
    "    print(i)"
   ]
  },
  {
   "cell_type": "code",
   "execution_count": null,
   "metadata": {
    "collapsed": true,
    "scrolled": true
   },
   "outputs": [],
   "source": [
    "help(len)"
   ]
  },
  {
   "cell_type": "markdown",
   "metadata": {},
   "source": [
    "### Mais Ajuda\n",
    "\n",
    "- Python: https://docs.python.org/\n",
    "- Numpy: https://docs.scipy.org/doc/numpy/\n",
    "- Matplotlib: https://matplotlib.org/contents.html\n",
    "- Galeria: https://matplotlib.org/gallery.html\n",
    "- #python, #scipy, #matplotlib @ freenode.net\n",
    "- Sala 328-A"
   ]
  },
  {
   "cell_type": "code",
   "execution_count": null,
   "metadata": {},
   "outputs": [],
   "source": [
    "import this"
   ]
  }
 ],
 "metadata": {
  "kernelspec": {
   "display_name": "Python 3",
   "language": "python",
   "name": "python3"
  },
  "language_info": {
   "codemirror_mode": {
    "name": "ipython",
    "version": 3
   },
   "file_extension": ".py",
   "mimetype": "text/x-python",
   "name": "python",
   "nbconvert_exporter": "python",
   "pygments_lexer": "ipython3",
   "version": "3.6.2"
  }
 },
 "nbformat": 4,
 "nbformat_minor": 2
}
