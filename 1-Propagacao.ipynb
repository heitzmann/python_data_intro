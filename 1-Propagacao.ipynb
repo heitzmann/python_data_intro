{
 "cells": [
  {
   "cell_type": "markdown",
   "metadata": {},
   "source": [
    "# Fotônica Integrada\n",
    "\n",
    "Vamos analisar medidas de perdas em guias poliméricos em fotônica integrada.\n",
    "\n",
    "Os guias foram fabricados em sala limpa por escrita direta a laser sobre bolachas de Si coberto por SiO₂.\n",
    "\n",
    "Os guias são retangulares, ambos com 600 nm de altura e larguras de 600 nm e 1.70 µm.\n",
    "\n",
    "As medidas foram tomadas com um laser de comprimento de onda de 633 nm (vermelho) utilizando fibras ópticas suportadas por estágios de alinhamento micrométrico.\n",
    "\n",
    "![Setup de medição](propagacao/image1.jpg)\n",
    "![Setup de medição](propagacao/image2.jpg)\n",
    "\n",
    "**Referência**:\n",
    "\n",
    "J. C. Ramirez, J. N. Schianti, M. G. Almeida, A. Pavani, R. R. Panepucci, H. E. Hernandez-Figueroa, L. H. Gabrielli.\n",
    "Low-loss modified SU-8 waveguides by direct laser writing at 405 nm.\n",
    "*Optical Materials Express*, **7**(7), 2651-2659, 2017. [[doi:10.1364/OME.7.002651](https://doi.org/10.1364/OME.7.002651)]"
   ]
  },
  {
   "cell_type": "code",
   "execution_count": null,
   "metadata": {
    "collapsed": true
   },
   "outputs": [],
   "source": [
    "# Import necessary modules\n",
    "import numpy\n",
    "from matplotlib import pyplot\n",
    "\n",
    "# Only in Jupyter Notebooks\n",
    "%matplotlib notebook"
   ]
  },
  {
   "cell_type": "code",
   "execution_count": null,
   "metadata": {
    "collapsed": true
   },
   "outputs": [],
   "source": [
    "# Waveguide lengths (cm)\n",
    "x = [0.5, 0.5, 0.5, 1.0, 1.0, 1.0, 2.0, 2.0, 2.0]\n",
    "\n",
    "# Single-mode waveguide insertion loss (dB)\n",
    "y1 = [13.31181, 13.1782, 14.01734,\n",
    "      16.2383, 16.3154, 16.068,\n",
    "      19.9276, 20.0151, 21.6095]\n",
    "\n",
    "# Multimode waveguide insertion loss (dB)\n",
    "y2 = [23.64875, 22.815, 23.9887,\n",
    "      27.25228, 26.7654, 26.5463,\n",
    "      33.33211, 32.786, 34.0234]"
   ]
  },
  {
   "cell_type": "markdown",
   "metadata": {},
   "source": [
    "É possível plotar usando diretamente funções do módulo `pyplot`, sem explicitar variáveis para figura (`fig`) e eixos (`ax`).\n",
    "Essa interfaçe funcional é mais similar ao Matlab, principalmente se o módulo `pyplot` for importado diretamente (cuidado para não sobrescrever as funções importadas):\n",
    "\n",
    "```python\n",
    "from matplotlib.pyplot import *\n",
    "figure()\n",
    "plot(x, y1)\n",
    "```\n",
    "\n",
    "No entanto, a interface orientada a objetos permite melhor organização do código, principalmente quando múltiplas figuras com subplots são criadas simultaneamente."
   ]
  },
  {
   "cell_type": "code",
   "execution_count": null,
   "metadata": {},
   "outputs": [],
   "source": [
    "fig, ax = pyplot.subplots(1, 1) # rows × cols\n",
    "\n",
    "ax.plot(x, y1)"
   ]
  },
  {
   "cell_type": "markdown",
   "metadata": {},
   "source": [
    "Um gráfico apropriado para publicação deve ter um mínimo de elementos descritivos, como títulos para os eixos."
   ]
  },
  {
   "cell_type": "code",
   "execution_count": null,
   "metadata": {},
   "outputs": [],
   "source": [
    "fig, ax = pyplot.subplots(1, 1) # rows × cols, size in inches\n",
    "\n",
    "ax.plot(x, y1, 'o', label='Single-mode')\n",
    "ax.plot(x, y2, 's', label='Multimode')\n",
    "\n",
    "ax.legend()\n",
    "\n",
    "ax.set_xlabel('Length (cm)')\n",
    "ax.set_ylabel('Insertion Loss (dB)')\n",
    "\n",
    "ax.grid()"
   ]
  },
  {
   "cell_type": "markdown",
   "metadata": {},
   "source": [
    "## Polynomial fit\n",
    "\n",
    "*Objetivo*: ajustar uma reta a cada grupo de dados para separar perdas por propagação (dependente do comprimento do guia) e  por acoplamento (independente do comprimento)."
   ]
  },
  {
   "cell_type": "code",
   "execution_count": null,
   "metadata": {
    "collapsed": true
   },
   "outputs": [],
   "source": [
    "numpy.polyfit?"
   ]
  },
  {
   "cell_type": "code",
   "execution_count": null,
   "metadata": {},
   "outputs": [],
   "source": [
    "c1, v1 = numpy.polyfit(x, y1, 1, cov=True)\n",
    "print('Coefficients:', c1)\n",
    "print('\\nCovariance matrix:\\n', v1)"
   ]
  },
  {
   "cell_type": "markdown",
   "metadata": {},
   "source": [
    "Com os coeficientes da reta, podemos plotá-la no gráfico junto dos dados originais.\n",
    "Para isso é preciso criar um vetor de valores para as distâncias e calcular as perdas atarvés da equação da reta.\n",
    "Por ser uma reta, dois pontos são suficientes.\n",
    "\n",
    "O vetor `x` é criado usando o módulo numpy, que permite operações com vetores e matrizes.\n",
    "Python não permite operações vetoriais diretamente porque suas listas podem conter tipos quaisquer de variáveis simultaneamente (inclusive outras listas):\n",
    "\n",
    "```python\n",
    "a = [1, 'wow', -5.3j, ['outra lista', 0], None]\n",
    "a + 1 = ???\n",
    "```"
   ]
  },
  {
   "cell_type": "code",
   "execution_count": null,
   "metadata": {},
   "outputs": [],
   "source": [
    "fit_x = numpy.array([0, 2.0])\n",
    "fit_y1 = c1[0] * fit_x + c1[1]\n",
    "\n",
    "fig, ax = pyplot.subplots(1, 1)\n",
    "\n",
    "ax.plot(x, y1, 'o', label='Single-mode data')\n",
    "ax.plot(fit_x, fit_y1, label='y = {0[0]:.1f}x + {0[1]:.1f}'.format(c1))\n",
    "\n",
    "print('Propagation loss: ({:.1f} ± {:.1f}) dB/cm'.format(c1[0], v1[0, 0]**0.5))\n",
    "print('Coupling loss: ({:.1f} ± {:.1f}) dB'.format(c1[1], v1[1, 1]**0.5))"
   ]
  },
  {
   "cell_type": "markdown",
   "metadata": {},
   "source": [
    "## Exercício\n",
    "\n",
    "Plote ambos os conjuntos de dados (guia monomodo e multimodo) com uma reta ajustada a cada conjunto.\n",
    "Não se esqueça da legenda, títulos para os eixos e grade.\n",
    "\n",
    "### Bônus\n",
    "\n",
    "- Use um estilo de linha diferente para uma das retas, facilitando sua identificação em impressões preto-e-branco\n",
    "- Salve a figura num arquivo que possa ser inserido mais tarde num relatório"
   ]
  },
  {
   "cell_type": "code",
   "execution_count": null,
   "metadata": {
    "collapsed": true
   },
   "outputs": [],
   "source": []
  },
  {
   "cell_type": "markdown",
   "metadata": {},
   "source": [
    "## Script\n",
    "\n",
    "Não é necessário usar a infraestrutura do Jupyter Notebook, pode-se simplesmente usar um arquivo de texto simples com extensão py e executá-lo através do interpretador.\n",
    "\n",
    "## Boas Práticas\n",
    "\n",
    "Ao analisar e processar dados experimentais é mais importante arquivar os arquivos originais de dados e scripts de processamento que os resultados e figuras gerados."
   ]
  }
 ],
 "metadata": {
  "kernelspec": {
   "display_name": "Python 3",
   "language": "python",
   "name": "python3"
  },
  "language_info": {
   "codemirror_mode": {
    "name": "ipython",
    "version": 3
   },
   "file_extension": ".py",
   "mimetype": "text/x-python",
   "name": "python",
   "nbconvert_exporter": "python",
   "pygments_lexer": "ipython3",
   "version": "3.6.2"
  }
 },
 "nbformat": 4,
 "nbformat_minor": 2
}
