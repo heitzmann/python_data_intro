{
 "cells": [
  {
   "cell_type": "markdown",
   "metadata": {},
   "source": [
    "# RF matching network\n",
    "\n",
    "A series of single stub impedance matching networks were assembled using 50 Ω coaxial cables and characterized around 120 MHz.\n",
    "The load was a termination with nominal value of 150 Ω, but, as assembled, it was closer to (134 - j40) Ω.\n",
    "\n",
    "All data from the spectrum analyzer are stored in CSV files.\n",
    "\n",
    "**Objective**: explore, filter and present the data."
   ]
  },
  {
   "cell_type": "code",
   "execution_count": null,
   "metadata": {
    "collapsed": true
   },
   "outputs": [],
   "source": [
    "# Import necessary modules\n",
    "import numpy\n",
    "from matplotlib import pyplot\n",
    "\n",
    "# Only in Jupyter Notebooks\n",
    "%matplotlib notebook"
   ]
  },
  {
   "cell_type": "code",
   "execution_count": null,
   "metadata": {
    "scrolled": true
   },
   "outputs": [],
   "source": [
    "%cat matching/50ohm.csv"
   ]
  },
  {
   "cell_type": "markdown",
   "metadata": {},
   "source": [
    "The header information (44 lines) must be skipped by `numpy.loadtxt`:"
   ]
  },
  {
   "cell_type": "code",
   "execution_count": null,
   "metadata": {},
   "outputs": [],
   "source": [
    "data = numpy.loadtxt('matching/50ohm.csv', delimiter=',', skiprows=44)\n",
    "data.shape"
   ]
  },
  {
   "cell_type": "markdown",
   "metadata": {},
   "source": [
    "Before measuring the matching networks, the bridge setup was characterized with a matched impedance (50 Ω), the load (150 Ω), a short, and an open terminations."
   ]
  },
  {
   "cell_type": "code",
   "execution_count": null,
   "metadata": {},
   "outputs": [],
   "source": [
    "fig, ax = pyplot.subplots(1, 1)\n",
    "\n",
    "for fname in ['50ohm', '150ohm', 'open', 'short']:\n",
    "    data = numpy.loadtxt('matching/{}.csv'.format(fname),\n",
    "                         delimiter=',', skiprows=44)\n",
    "    ax.plot(data[:, 0] * 1e-6, data[:, 1])\n",
    "\n",
    "ax.legend([r'$50\\,\\Omega$', r'$150\\,\\Omega$', 'Open', 'Short'])\n",
    "ax.set_xlabel('Frequency (MHz)')\n",
    "ax.set_ylabel('Power (dBm)')\n",
    "ax.grid()"
   ]
  },
  {
   "cell_type": "markdown",
   "metadata": {},
   "source": [
    "Open and short terminations present relatively similar signal levels, as expected.\n",
    "Because they represent total reflection at the load, they can be used as reference to  eliminate the effects of losses in the cables, connections and the bridge used in the measurement setup.\n",
    "\n",
    "Because both curves are relatively constant, the average value is sufficient as a general reference value for all frequencies."
   ]
  },
  {
   "cell_type": "code",
   "execution_count": null,
   "metadata": {},
   "outputs": [],
   "source": [
    "short = numpy.loadtxt('matching/short.csv', delimiter=',',\n",
    "                      skiprows=44, usecols=1)\n",
    "short.shape"
   ]
  },
  {
   "cell_type": "code",
   "execution_count": null,
   "metadata": {},
   "outputs": [],
   "source": [
    "reference = short.mean()\n",
    "reference"
   ]
  },
  {
   "cell_type": "markdown",
   "metadata": {},
   "source": [
    "The data file names include the lenghts (in centimeters) of the load (`d`) and short (`l`) stubs in each configuration."
   ]
  },
  {
   "cell_type": "code",
   "execution_count": null,
   "metadata": {},
   "outputs": [],
   "source": [
    "fig, ax = pyplot.subplots(1, 1)\n",
    "\n",
    "for d in range(23, 28):\n",
    "    for l in range(16, 21):\n",
    "        data = numpy.loadtxt('matching/d{}-l{}.csv'.format(d, l),\n",
    "                             delimiter=',', skiprows=44)\n",
    "        ax.plot(data[:, 0] * 1e-6, data[:, 1] - reference,\n",
    "                label='d = {} cm, l = {} cm'.format(d, l))\n",
    "\n",
    "ax.legend()\n",
    "ax.set_xlabel('Frequency (MHz)')\n",
    "ax.set_ylabel('Reflection (dB)')\n",
    "ax.grid()"
   ]
  },
  {
   "cell_type": "markdown",
   "metadata": {},
   "source": [
    "Even without the legend, this plot is heavily polluted.\n",
    "It is difficult to extract any usefull information from it.\n",
    "\n",
    "Considering that the data is 3-dimensional (frequency, `d` and `l` are independent variables), there are better ways to filter out and display usefull information from the measurements.\n",
    "\n",
    "Since all measurements contain were taken at the same frequency values, it can be stored in a 3-d array indexed by (frequency, `l` value, `d` value)."
   ]
  },
  {
   "cell_type": "code",
   "execution_count": null,
   "metadata": {},
   "outputs": [],
   "source": [
    "d = numpy.arange(23, 28)\n",
    "l = numpy.arange(16, 21)\n",
    "for dd in d:\n",
    "    for ll in l:\n",
    "        # In the first iteration the freq array is extracted and the 3-d array initialized\n",
    "        if dd == d[0] and ll == l[0]:\n",
    "            data = numpy.loadtxt('matching/d{}-l{}.csv'.format(dd, ll),\n",
    "                             delimiter=',', skiprows=44)\n",
    "            freq = data[:, 0] * 1e-6\n",
    "            refl = numpy.empty((len(freq), 5, 5))\n",
    "            refl[:, 0, 0] = data[:, 1]\n",
    "        else:\n",
    "            refl[:, ll - 16, dd - 23] = numpy.loadtxt(\n",
    "                'matching/d{}-l{}.csv'.format(dd, ll),\n",
    "                delimiter=',', skiprows=44, usecols=1)\n",
    "refl -= reference\n",
    "\n",
    "print(freq.shape, l.shape, d.shape, refl.shape)"
   ]
  },
  {
   "cell_type": "markdown",
   "metadata": {},
   "source": [
    "The matching performance can be chcecked at the target frequency of 120 MHz.\n",
    "\n",
    "The data is cut accross the frequency axis at the closest index (`freq[i]`) to 120 MHz."
   ]
  },
  {
   "cell_type": "code",
   "execution_count": null,
   "metadata": {},
   "outputs": [],
   "source": [
    "i = numpy.argmin(numpy.abs(freq - 120))\n",
    "i, freq[i]"
   ]
  },
  {
   "cell_type": "code",
   "execution_count": null,
   "metadata": {},
   "outputs": [],
   "source": [
    "fig, ax = pyplot.subplots(1, 1)\n",
    "\n",
    "ax.imshow(refl[i, :, :], origin='lower')"
   ]
  },
  {
   "cell_type": "code",
   "execution_count": null,
   "metadata": {},
   "outputs": [],
   "source": [
    "fig, ax = pyplot.subplots(1, 1)\n",
    "\n",
    "cax = ax.imshow(refl[i, :, :], origin='lower', cmap='magma',\n",
    "                extent=(d[0]-0.5, d[-1]+0.5, l[0]-0.5, l[-1]+0.5))\n",
    "\n",
    "pyplot.colorbar(cax, label='Reflection (dB)')\n",
    "\n",
    "ax.set_xlabel('d (cm)')\n",
    "ax.set_ylabel('l (cm)')"
   ]
  },
  {
   "cell_type": "markdown",
   "metadata": {},
   "source": [
    "Alternatively, contours can be used when they do not introduce artifacts."
   ]
  },
  {
   "cell_type": "code",
   "execution_count": null,
   "metadata": {},
   "outputs": [],
   "source": [
    "fig, ax = pyplot.subplots(1, 1)\n",
    "\n",
    "cax = ax.contourf(d, l, refl[i, :, :])\n",
    "pyplot.colorbar(cax, label='Reflection (dB)')\n",
    "\n",
    "ax.set_xlabel('d (cm)')\n",
    "ax.set_ylabel('l (cm)')"
   ]
  },
  {
   "cell_type": "code",
   "execution_count": null,
   "metadata": {},
   "outputs": [],
   "source": [
    "fig, ax = pyplot.subplots(1, 1)\n",
    "\n",
    "cax = ax.contour(d, l, refl[i, :, :])\n",
    "ax.clabel(cax, fmt='%.1f', fontsize='small')\n",
    "\n",
    "ax.set_xlabel('d (cm)')\n",
    "ax.set_ylabel('l (cm)')"
   ]
  },
  {
   "cell_type": "markdown",
   "metadata": {},
   "source": [
    "The data also shows the miminal reflection for each configuration across frequencies.\n",
    "\n",
    "For example, for `d` = 23 cm and `l` = 16 cm, the minimum is:"
   ]
  },
  {
   "cell_type": "code",
   "execution_count": null,
   "metadata": {},
   "outputs": [],
   "source": [
    "refl[:, 0, 0].min()"
   ]
  },
  {
   "cell_type": "code",
   "execution_count": null,
   "metadata": {},
   "outputs": [],
   "source": [
    "fig, ax = pyplot.subplots(1, 1)\n",
    "\n",
    "cax = ax.contourf(d, l, refl.min(axis=0))\n",
    "pyplot.colorbar(cax, label='Reflection (dB)')\n",
    "\n",
    "ax.set_xlabel('d (cm)')\n",
    "ax.set_ylabel('l (cm)')"
   ]
  },
  {
   "cell_type": "markdown",
   "metadata": {},
   "source": [
    "At which frequencies do the minima occur?"
   ]
  },
  {
   "cell_type": "code",
   "execution_count": null,
   "metadata": {},
   "outputs": [],
   "source": [
    "refl.argmin(axis=0)"
   ]
  },
  {
   "cell_type": "code",
   "execution_count": null,
   "metadata": {},
   "outputs": [],
   "source": [
    "refl[841, 0, 0] == refl[:, 0, 0].min()"
   ]
  },
  {
   "cell_type": "code",
   "execution_count": null,
   "metadata": {},
   "outputs": [],
   "source": [
    "freq[refl.argmin(axis=0)]"
   ]
  },
  {
   "cell_type": "code",
   "execution_count": null,
   "metadata": {},
   "outputs": [],
   "source": [
    "fig, ax = pyplot.subplots(1, 1)\n",
    "\n",
    "cax = ax.contour(d, l, freq[refl.argmin(axis=0)])\n",
    "ax.clabel(cax, fmt='%.0f MHz', fontsize='small')\n",
    "\n",
    "ax.set_xlabel('d (cm)')\n",
    "ax.set_ylabel('l (cm)')"
   ]
  },
  {
   "cell_type": "markdown",
   "metadata": {},
   "source": [
    "## Exercise\n",
    "\n",
    "Draw the plots of minimal reflection and frequency of minimal reflection for each network in a single `AxesSubplot` in such a way that both are presented to the reader.\n",
    "\n",
    "### Bonus\n",
    "\n",
    "Format the plot so that it can be printed in black and white without loss of information."
   ]
  },
  {
   "cell_type": "code",
   "execution_count": null,
   "metadata": {
    "collapsed": true
   },
   "outputs": [],
   "source": []
  },
  {
   "cell_type": "markdown",
   "metadata": {},
   "source": [
    "## Theoretical model"
   ]
  },
  {
   "cell_type": "code",
   "execution_count": null,
   "metadata": {},
   "outputs": [],
   "source": [
    "f, l, d = numpy.mgrid[100:140:81j, 16:21:121j, 23:28:121j]\n",
    "lda = 2.0e4 / f\n",
    "\n",
    "zL = (134 - 40j) / 50.0\n",
    "gL = (zL - 1) / (zL + 1)\n",
    "gd = gL * numpy.exp(-numpy.pi*4j*d/lda)\n",
    "zd = (1 + gd) / (1 - gd)\n",
    "\n",
    "zs = 0\n",
    "gs = (zs - 1) / (zs + 1)\n",
    "gl = gs * numpy.exp(-numpy.pi*4j*l/lda)\n",
    "zl = (1 + gl) / (1 - gl)\n",
    "\n",
    "zin = 1 / (1/zd + 1/zl)\n",
    "gin = (zin - 1) / (zin + 1)\n",
    "refl = 20*numpy.log10(numpy.abs(gin))\n",
    "\n",
    "fig, ax = pyplot.subplots(1, 1)\n",
    "\n",
    "cax = ax.contourf(d[0,0,:], l[0,:,0], refl.min(axis=0), cmap='gray',\n",
    "                 levels=numpy.arange(-40, -19, 2.5), extend='min')\n",
    "pyplot.colorbar(cax, label='Reflection (dB)')\n",
    "\n",
    "cax = ax.contour(d[0,0,:], l[0,:,0], f[:,0,0][refl.argmin(axis=0)],\n",
    "                 cmap='winter')\n",
    "ax.clabel(cax, fmt='%.0f MHz', fontsize='small')\n",
    "\n",
    "ax.set_xlabel(r\"$d$ (cm)\")\n",
    "ax.set_ylabel(r\"$\\ell$ (cm)\")\n",
    "\n",
    "ax.set_aspect(1)"
   ]
  }
 ],
 "metadata": {
  "kernelspec": {
   "display_name": "Python 3",
   "language": "python",
   "name": "python3"
  },
  "language_info": {
   "codemirror_mode": {
    "name": "ipython",
    "version": 3
   },
   "file_extension": ".py",
   "mimetype": "text/x-python",
   "name": "python",
   "nbconvert_exporter": "python",
   "pygments_lexer": "ipython3",
   "version": "3.6.2"
  }
 },
 "nbformat": 4,
 "nbformat_minor": 2
}
