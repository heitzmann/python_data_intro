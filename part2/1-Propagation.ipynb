{
 "cells": [
  {
   "cell_type": "markdown",
   "metadata": {},
   "source": [
    "# Light propagation in waveguides\n",
    "\n",
    "**Objective:** characterize the propagation loss in polymeric optical waveguides.\n",
    "\n",
    "The waveguides were fabricated in a cleanroom environment through direct laser writing on a Si wafer covered with a thick SiO₂ layer.\n",
    "\n",
    "The waveguides have 600 nm in height, 600 nm of 1.70 µm in width (for single- and multi-mode types), and lenghts of 0.5, 1.0, and 2.0 cm.\n",
    "Measurements for 3 samples of each width and length are available.\n",
    "\n",
    "The measurements were taken with a red laser at a wavelength of 633 nm that was coupled into and out of the waveguides using optical fibers aligned to their end facets.\n",
    "\n",
    "![Setup de medição](propagation/image1.jpg)\n",
    "![Setup de medição](propagation/image2.jpg)\n",
    "\n",
    "**Reference**:\n",
    "\n",
    "J. C. Ramirez, J. N. Schianti, M. G. Almeida, A. Pavani, R. R. Panepucci, H. E. Hernandez-Figueroa, L. H. Gabrielli.\n",
    "Low-loss modified SU-8 waveguides by direct laser writing at 405 nm.\n",
    "*Optical Materials Express*, **7**(7), 2651-2659, 2017. [[doi:10.1364/OME.7.002651](https://doi.org/10.1364/OME.7.002651)]"
   ]
  },
  {
   "cell_type": "code",
   "execution_count": null,
   "metadata": {
    "collapsed": true
   },
   "outputs": [],
   "source": [
    "# Import necessary modules\n",
    "import numpy\n",
    "from matplotlib import pyplot\n",
    "\n",
    "# Only in Jupyter Notebooks\n",
    "%matplotlib notebook"
   ]
  },
  {
   "cell_type": "code",
   "execution_count": null,
   "metadata": {
    "collapsed": true
   },
   "outputs": [],
   "source": [
    "# Waveguide lengths (cm)\n",
    "x_exp = [0.5, 0.5, 0.5, 1.0, 1.0, 1.0, 2.0, 2.0, 2.0]\n",
    "\n",
    "# Single-mode waveguide insertion loss (dB)\n",
    "y_sm = [13.312, 13.178, 14.017,\n",
    "        16.238, 16.315, 16.068,\n",
    "        19.928, 20.015, 21.610]\n",
    "\n",
    "# Multimode waveguide insertion loss (dB)\n",
    "y_mm = [23.649, 22.815, 23.989,\n",
    "        27.252, 26.765, 26.546,\n",
    "        33.332, 32.786, 34.023]"
   ]
  },
  {
   "cell_type": "markdown",
   "metadata": {},
   "source": [
    "The `pyplot` module provides an interface very similar to Matlab:\n",
    "\n",
    "```python\n",
    "from matplotlib.pyplot import *\n",
    "figure()\n",
    "plot(x, y1)\n",
    "```\n",
    "\n",
    "However, an object oriented interface allows better code organization, in particular when multiple figures and axes are constructed simultaneously.\n",
    "\n",
    "This interface is mostly based on `Figure` and `AxisSubplot` instances created by the `subplots` function."
   ]
  },
  {
   "cell_type": "code",
   "execution_count": null,
   "metadata": {
    "scrolled": false
   },
   "outputs": [],
   "source": [
    "fig, ax = pyplot.subplots(1, 1) # rows × cols\n",
    "\n",
    "ax.plot(x_exp, y_sm)"
   ]
  },
  {
   "cell_type": "markdown",
   "metadata": {},
   "source": [
    "Any publication-quality plot should include at least axis labels.\n",
    "In this case a legend is important as well.\n",
    "Finally, a grid is usefull to anyone trying to read the data."
   ]
  },
  {
   "cell_type": "code",
   "execution_count": null,
   "metadata": {
    "collapsed": true
   },
   "outputs": [],
   "source": [
    "fig, ax = pyplot.subplots(1, 1, figsize=(4.5, 4)) # rows × cols, size in inches\n",
    "\n",
    "ax.plot(x_exp, y_sm, 'o', label='Single-mode')\n",
    "ax.plot(x_exp, y_mm, 's', label='Multimode')\n",
    "\n",
    "ax.set_xlabel('Length (cm)')\n",
    "ax.set_ylabel('Insertion Loss (dB)')\n",
    "\n",
    "ax.legend()\n",
    "\n",
    "ax.grid()"
   ]
  },
  {
   "cell_type": "markdown",
   "metadata": {},
   "source": [
    "## Polynomial fit\n",
    "\n",
    "Propagation and insertion losses for the experiments can be estimated by fitting a line to the measured data, since the former grows linearly with the wveguide length and the latter is independent from it."
   ]
  },
  {
   "cell_type": "code",
   "execution_count": null,
   "metadata": {
    "collapsed": true
   },
   "outputs": [],
   "source": [
    "numpy.polyfit?"
   ]
  },
  {
   "cell_type": "code",
   "execution_count": null,
   "metadata": {
    "collapsed": true
   },
   "outputs": [],
   "source": [
    "c_sm, v_sm = numpy.polyfit(x_exp, y_sm, 1, cov=True)\n",
    "print('Coefficients:', c_sm)\n",
    "print('\\nCovariance matrix:\\n', v_sm)"
   ]
  },
  {
   "cell_type": "code",
   "execution_count": null,
   "metadata": {
    "collapsed": true
   },
   "outputs": [],
   "source": [
    "x = 1.5\n",
    "print(c_sm[0] * x + c_sm[1])"
   ]
  },
  {
   "cell_type": "markdown",
   "metadata": {},
   "source": [
    "The best line can be plotted together with the data.\n",
    "Because it is a straight line, only the 2 extremes of the line segment are required for plotting it.\n",
    "With the line coefficients at hand, *y* values can be directly computed from selected *x* values."
   ]
  },
  {
   "cell_type": "code",
   "execution_count": null,
   "metadata": {
    "collapsed": true
   },
   "outputs": [],
   "source": [
    "x_fit = [0.0, 2.0]\n",
    "y_sm_fit = []\n",
    "for x in x_fit:\n",
    "    y_sm_fit.append(c_sm[0] * x + c_sm[1])\n",
    "y_sm_fit"
   ]
  },
  {
   "cell_type": "markdown",
   "metadata": {},
   "source": [
    "It would be much easier to write:\n",
    "```python\n",
    "y_sm_fit = c_sm[0] * x_fit + c_sm[1]\n",
    "```\n",
    "and have the *y* values calculated element-wise from the RHS.\n",
    "\n",
    "That is possible if the *x* vector is created with the `numpy` module, which provides operations on multi-dimensional vectors and matrices and tensors.\n",
    "\n",
    "*Remember that python lists can hold any object, so nummerical operations are, in general, meaningless.*\n",
    "```python\n",
    "a = [1, 'wow', -5.3j, ['outra lista', 0], None]\n",
    "a + 1 = ???\n",
    "```"
   ]
  },
  {
   "cell_type": "code",
   "execution_count": null,
   "metadata": {
    "collapsed": true
   },
   "outputs": [],
   "source": [
    "x_fit = numpy.array([0, 2.0])\n",
    "y_sm_fit = c_sm[0] * x_fit + c_sm[1]\n",
    "\n",
    "fig, ax = pyplot.subplots(1, 1)\n",
    "\n",
    "ax.plot(x_exp, y_sm, 'o', label='Single-mode data')\n",
    "ax.plot(x_fit, y_sm_fit, label='y = {0[0]:.1f}x + {0[1]:.1f}'.format(c_sm))\n",
    "\n",
    "ax.legend()\n",
    "ax.grid()\n",
    "\n",
    "print('Propagation loss: ({:.1f} ± {:.1f}) dB/cm'.format(c_sm[0], v_sm[0, 0]**0.5))\n",
    "print('Coupling loss: ({:.1f} ± {:.1f}) dB'.format(c_sm[1], v_sm[1, 1]**0.5))"
   ]
  },
  {
   "cell_type": "markdown",
   "metadata": {},
   "source": [
    "## Exercise\n",
    "\n",
    "Plot both sets of data (single- and multi-mode waveguides) with one linear fit for each.\n",
    "Don't forget to include legend, grid and axis labels.\n",
    "\n",
    "### Bonus\n",
    "\n",
    "- Use a different line style for each linear fit (very helpfull for black and white prints).\n",
    "- Save the figure to a file that could be latter included in a report."
   ]
  },
  {
   "cell_type": "code",
   "execution_count": null,
   "metadata": {
    "collapsed": true
   },
   "outputs": [],
   "source": [
    "c_mm, v_mm = ..."
   ]
  }
 ],
 "metadata": {
  "kernelspec": {
   "display_name": "Python 3",
   "language": "python",
   "name": "python3"
  },
  "language_info": {
   "codemirror_mode": {
    "name": "ipython",
    "version": 3
   },
   "file_extension": ".py",
   "mimetype": "text/x-python",
   "name": "python",
   "nbconvert_exporter": "python",
   "pygments_lexer": "ipython3",
   "version": "3.6.2"
  }
 },
 "nbformat": 4,
 "nbformat_minor": 2
}
