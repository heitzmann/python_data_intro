{
 "cells": [
  {
   "cell_type": "markdown",
   "metadata": {},
   "source": [
    "# Transmission between Antennas\n",
    "\n",
    "![Experiment](transmission/experiment.jpg)\n",
    "\n",
    "In this experiment, a stationary wave appears between transmitting and receiving antennas.\n",
    "\n",
    "By slowly varying their distance and mapping this wave, it is possible to find the frequency of the transmitted signal.\n",
    "\n",
    "**Objectvie:** find the frequency of the transmitted signal."
   ]
  },
  {
   "cell_type": "code",
   "execution_count": null,
   "metadata": {
    "collapsed": true
   },
   "outputs": [],
   "source": [
    "# Import necessary modules\n",
    "import numpy\n",
    "from matplotlib import pyplot\n",
    "\n",
    "# Only in Jupyter Notebooks\n",
    "%matplotlib notebook"
   ]
  },
  {
   "cell_type": "markdown",
   "metadata": {},
   "source": [
    "The experimental data is in a comma-separated values (CSV) file.\n",
    "\n",
    "The *magic* command `%cat` inside the Jupyter Notebook (or IPython REPL) shows the contents of a file."
   ]
  },
  {
   "cell_type": "code",
   "execution_count": null,
   "metadata": {
    "collapsed": true,
    "scrolled": false
   },
   "outputs": [],
   "source": [
    "%cat transmission/data.csv"
   ]
  },
  {
   "cell_type": "markdown",
   "metadata": {},
   "source": [
    "The data can be read manually and stored in a list of lists of floats:\n",
    "\n",
    "```python\n",
    "data = []\n",
    "with open('transmissao/dados.csv') as infile:\n",
    "    print(infile.readline())\n",
    "    for line in infile:\n",
    "        data.append([float(i) for i in line.split(';')])\n",
    "data = numpy.array(data)\n",
    "```\n",
    "\n",
    "Alternatively, the `csv` built-in module contains the `reader` function to automate the process and take care of more general data.\n",
    "\n",
    "In this case, a third option is more indicated because the file contains only nummerical data that will be later manipulated: the function `loadtxt` from `numpy`.\n",
    "It will be faster, simpler and it will provide the data in a `numpy` array ready for vector manipulations."
   ]
  },
  {
   "cell_type": "code",
   "execution_count": null,
   "metadata": {
    "collapsed": true,
    "scrolled": true
   },
   "outputs": [],
   "source": [
    "numpy.loadtxt?"
   ]
  },
  {
   "cell_type": "code",
   "execution_count": null,
   "metadata": {
    "collapsed": true,
    "scrolled": false
   },
   "outputs": [],
   "source": [
    "data = numpy.loadtxt('transmission/data.csv', delimiter=';', skiprows=1)\n",
    "data"
   ]
  },
  {
   "cell_type": "code",
   "execution_count": null,
   "metadata": {
    "collapsed": true
   },
   "outputs": [],
   "source": [
    "data.shape"
   ]
  },
  {
   "cell_type": "code",
   "execution_count": null,
   "metadata": {
    "collapsed": true
   },
   "outputs": [],
   "source": [
    "data[0, :] # View row 0 (first), all columns"
   ]
  },
  {
   "cell_type": "code",
   "execution_count": null,
   "metadata": {
    "collapsed": true
   },
   "outputs": [],
   "source": [
    "data[0, :].shape"
   ]
  },
  {
   "cell_type": "markdown",
   "metadata": {},
   "source": [
    "The `x` values can be extracted from the first column of the `data` array; all remaining columns contain the measurements `v`.\n",
    "\n",
    "**Be careful:** `x` does not copy the values from `data`, it is a *view* of them, therefore changing an element in `x` will also affect `data`."
   ]
  },
  {
   "cell_type": "code",
   "execution_count": null,
   "metadata": {
    "collapsed": true
   },
   "outputs": [],
   "source": [
    "x = data[:, 0]\n",
    "x"
   ]
  },
  {
   "cell_type": "code",
   "execution_count": null,
   "metadata": {
    "collapsed": true
   },
   "outputs": [],
   "source": [
    "v = data[:, 1:]\n",
    "v"
   ]
  },
  {
   "cell_type": "code",
   "execution_count": null,
   "metadata": {
    "collapsed": true
   },
   "outputs": [],
   "source": [
    "fig, ax = pyplot.subplots(1, 1)\n",
    "\n",
    "ax.plot(x, v[:, 0], '.')\n",
    "ax.plot(x, v[:, 1], '.')\n",
    "ax.plot(x, v[:, 2], '.')\n",
    "ax.plot(x, v[:, 3], '.')"
   ]
  },
  {
   "cell_type": "markdown",
   "metadata": {},
   "source": [
    "If the means and standard deviations from the 4 experiment runs are required, they can be easily calculated:"
   ]
  },
  {
   "cell_type": "code",
   "execution_count": null,
   "metadata": {
    "collapsed": true
   },
   "outputs": [],
   "source": [
    "v0 = v[0, :] # First row of the measurement data: 4 measurements taken at x[0]\n",
    "print(v0, numpy.mean(v0), numpy.std(v0))"
   ]
  },
  {
   "cell_type": "code",
   "execution_count": null,
   "metadata": {
    "collapsed": true
   },
   "outputs": [],
   "source": [
    "%%timeit\n",
    "y = numpy.zeros(len(x))\n",
    "for i in range(len(x)):\n",
    "    y[i] = numpy.mean(v[i, :])"
   ]
  },
  {
   "cell_type": "code",
   "execution_count": null,
   "metadata": {
    "collapsed": true
   },
   "outputs": [],
   "source": [
    "%%timeit\n",
    "y = numpy.mean(v, axis=1)"
   ]
  },
  {
   "cell_type": "code",
   "execution_count": null,
   "metadata": {
    "collapsed": true
   },
   "outputs": [],
   "source": [
    "y = numpy.mean(v, axis=1)\n",
    "e = numpy.std(v, axis=1)\n",
    "y"
   ]
  },
  {
   "cell_type": "code",
   "execution_count": null,
   "metadata": {
    "collapsed": true
   },
   "outputs": [],
   "source": [
    "fig, ax = pyplot.subplots(1, 1)\n",
    "\n",
    "ax.errorbar(x, y, e, capsize=3)\n",
    "\n",
    "ax.set_xlabel('Distance (mm)')\n",
    "ax.set_ylabel('Signal (normalized)')\n",
    "\n",
    "ax.grid()"
   ]
  },
  {
   "cell_type": "markdown",
   "metadata": {},
   "source": [
    "The spacial period of the standing wave $\\ell$ is directly related to the frequency $f$ and wavelength $\\lambda$ of the transmitted signal:\n",
    "\n",
    "\\begin{align*}\n",
    "\\lambda &= 2\\ell \\\\\n",
    "f &= \\frac{c}{\\lambda} = \\frac{c}{2\\ell}\n",
    "\\end{align*}\n",
    "\n",
    "There are several ways of finding $\\ell$ from the available data.\n",
    "Due to the sparsity of points and existing uncertainties, a good solution is to use a model of the experiment to fit the data.\n",
    "That is preferable to simply finding the distance between consecutive peaks and valeys or using a Discrete Fourier Transform to find the main spacial frequency of the data, because it introduces information about the data that is not present in the measurements.\n",
    "\n",
    "In the previous notebook a linear fit was enough to model the data, but now the model is, in a first approximation, a sinusoidal curve.\n",
    "A non-linear fitting method is required:"
   ]
  },
  {
   "cell_type": "code",
   "execution_count": null,
   "metadata": {
    "collapsed": true
   },
   "outputs": [],
   "source": [
    "from scipy.optimize import curve_fit\n",
    "\n",
    "curve_fit?"
   ]
  },
  {
   "cell_type": "markdown",
   "metadata": {},
   "source": [
    "Nosso modelo deve ser uma função da posição e dos parâmetros que queremos otimizar.\n",
    "Por se tratar de um problema não-linear, é preciso dar um chute inicial razoável para o algoritmo de ajuste."
   ]
  },
  {
   "cell_type": "code",
   "execution_count": null,
   "metadata": {
    "collapsed": true
   },
   "outputs": [],
   "source": [
    "def model(x, l, a, x0, y0):\n",
    "    return y0 + a * numpy.sin(2*numpy.pi/l*(x - x0))\n",
    "\n",
    "model(0.25, 5, 2, 0, 0)"
   ]
  },
  {
   "cell_type": "code",
   "execution_count": null,
   "metadata": {
    "collapsed": true
   },
   "outputs": [],
   "source": [
    "x_fit = numpy.array([0, 0.25, 0.5, 0.75, 1])\n",
    "model(x_fit, 10, 1, 0, 0)"
   ]
  },
  {
   "cell_type": "code",
   "execution_count": null,
   "metadata": {
    "collapsed": true
   },
   "outputs": [],
   "source": [
    "args = [10, 1, 0, 0]\n",
    "model(x_fit, *args)"
   ]
  },
  {
   "cell_type": "code",
   "execution_count": null,
   "metadata": {
    "collapsed": true
   },
   "outputs": [],
   "source": [
    "init = (15, 0.2, 291, 0.75)\n",
    "\n",
    "x_fit = numpy.linspace(x[0], x[-1], 201)\n",
    "\n",
    "y_init = model(x_fit, *init)\n",
    "\n",
    "fig, ax = pyplot.subplots(1, 1)\n",
    "\n",
    "ax.errorbar(x, y, e, capsize=3, ls='', marker='.')\n",
    "ax.plot(x_fit, y_init)"
   ]
  },
  {
   "cell_type": "code",
   "execution_count": null,
   "metadata": {
    "collapsed": true
   },
   "outputs": [],
   "source": [
    "opt, cov = curve_fit(model, x, y, init, sigma=e)\n",
    "\n",
    "print(opt)\n",
    "print(numpy.sqrt(numpy.diag(cov)))"
   ]
  },
  {
   "cell_type": "code",
   "execution_count": null,
   "metadata": {
    "collapsed": true
   },
   "outputs": [],
   "source": [
    "y_fit = model(x_fit, *opt)\n",
    "\n",
    "fig, ax = pyplot.subplots(1, 1)\n",
    "\n",
    "ax.errorbar(x, y, e, capsize=3, ls='', marker='.')\n",
    "ax.plot(x_fit, y_fit)\n",
    "\n",
    "ax.set_xlabel('Distance (mm)')\n",
    "ax.set_ylabel('Signal (normalized)')\n",
    "\n",
    "ax.grid()"
   ]
  },
  {
   "cell_type": "markdown",
   "metadata": {},
   "source": [
    "Conhecendo o modelo, sabemos qua a distância entre máximos é a metade do comprimento de onda do sinal transmitido."
   ]
  },
  {
   "cell_type": "code",
   "execution_count": null,
   "metadata": {
    "collapsed": true
   },
   "outputs": [],
   "source": [
    "f = 3e8 / (2 * opt[0] * 1e-3)\n",
    "print(f'Frequency: {f * 1e-9:.1f} GHz')"
   ]
  },
  {
   "cell_type": "markdown",
   "metadata": {},
   "source": [
    "## Exercise\n",
    "\n",
    "Modify the model to accept the transmitted signal frequency $f$ instead of the the standing wave period $\\ell$ as an argument.\n",
    "\n",
    "### Bonus\n",
    "\n",
    "Find the uncertainty of the frequency based on the model fitting from the covariance matrix."
   ]
  },
  {
   "cell_type": "code",
   "execution_count": null,
   "metadata": {
    "collapsed": true
   },
   "outputs": [],
   "source": [
    "def model2(x, f, a, x0, y0):\n",
    "    ..."
   ]
  },
  {
   "cell_type": "markdown",
   "metadata": {},
   "source": [
    "## Appendix\n",
    "\n",
    "An even more accurate model is presented below.\n",
    "It models the multiple reflections at both antenas and losses."
   ]
  },
  {
   "cell_type": "code",
   "execution_count": null,
   "metadata": {
    "collapsed": true
   },
   "outputs": [],
   "source": [
    "def model3(x, f, a, e0, g, p0, p1):\n",
    "    phi = (a + 6.67e-3j * numpy.pi * f) * (x - 280)\n",
    "    y = e0 * (numpy.exp(1j * p0 - phi) + g * numpy.exp(1j * p1 + phi))\n",
    "    return numpy.abs(y)**2\n",
    "\n",
    "init3 = (10, 0.001, 0.9, 0.1, 0, 0)\n",
    "opt3, cov3 = curve_fit(model3, x, y, init3)\n",
    "\n",
    "y_init = model3(x_fit, *init3)\n",
    "y_fit = model3(x_fit, *opt3)\n",
    "\n",
    "fig, ax = pyplot.subplots(2, 1, figsize=(6, 6))\n",
    "\n",
    "for a in ax:\n",
    "    a.errorbar(x, y, e, capsize=3, ls='', marker='.')\n",
    "    a.set_ylabel('Signal (normalized)')\n",
    "    a.grid()\n",
    "ax[1].set_xlabel('Distance (mm)')\n",
    "\n",
    "ax[0].plot(x_fit, y_init)\n",
    "ax[1].plot(x_fit, y_fit)\n",
    "\n",
    "print('Frequency: ({:.2f} ± {:.2f}) GHz'.format(opt3[0], cov3[0, 0]**0.5))"
   ]
  }
 ],
 "metadata": {
  "kernelspec": {
   "display_name": "Python 3",
   "language": "python",
   "name": "python3"
  },
  "language_info": {
   "codemirror_mode": {
    "name": "ipython",
    "version": 3
   },
   "file_extension": ".py",
   "mimetype": "text/x-python",
   "name": "python",
   "nbconvert_exporter": "python",
   "pygments_lexer": "ipython3",
   "version": "3.6.3"
  }
 },
 "nbformat": 4,
 "nbformat_minor": 2
}
