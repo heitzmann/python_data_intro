{
 "cells": [
  {
   "cell_type": "markdown",
   "metadata": {},
   "source": [
    "# Casador de Impedâncias\n",
    "\n",
    "Caracterizamos uma série de casadores de imepedância de toco simples para frequências ao redor de 125 MHz.\n",
    "\n",
    "Nesse caso os dados foram salvos direto do analisador de espectro.\n",
    "Apesar do número de pontos muito maior, a forma de analisar é a mesma.\n",
    "\n",
    "**Objetivo**: apresentar os dados coletados de forma informativa."
   ]
  },
  {
   "cell_type": "code",
   "execution_count": null,
   "metadata": {
    "collapsed": true
   },
   "outputs": [],
   "source": [
    "# Import necessary modules\n",
    "import numpy\n",
    "from matplotlib import pyplot\n",
    "\n",
    "# Only in Jupyter Notebooks\n",
    "%matplotlib notebook"
   ]
  },
  {
   "cell_type": "markdown",
   "metadata": {},
   "source": [
    "O analisador de espectro salva toda sua configuração como cabeçalho do arquivo, por isso é importante armazenar esses dados caso deseje-se reproduzir os experimentos."
   ]
  },
  {
   "cell_type": "code",
   "execution_count": null,
   "metadata": {
    "collapsed": true,
    "scrolled": false
   },
   "outputs": [],
   "source": [
    "%cat casador/50ohm.csv"
   ]
  },
  {
   "cell_type": "markdown",
   "metadata": {},
   "source": [
    "Novamente usamos `numpy.loadtxt`, mas agora o cabeçalho tem 44 linhas."
   ]
  },
  {
   "cell_type": "code",
   "execution_count": null,
   "metadata": {
    "collapsed": true
   },
   "outputs": [],
   "source": [
    "data = numpy.loadtxt('casador/50ohm.csv', delimiter=',', skiprows=44)\n",
    "data.shape"
   ]
  },
  {
   "cell_type": "markdown",
   "metadata": {},
   "source": [
    "Antes de medir os casadores, verificamos as medidas sobre uma carga casada (50 Ω), a que desejamos casar (150 Ω nominais), um aberto e um curto."
   ]
  },
  {
   "cell_type": "code",
   "execution_count": null,
   "metadata": {
    "collapsed": true
   },
   "outputs": [],
   "source": [
    "fig, ax = pyplot.subplots(1, 1)\n",
    "\n",
    "for fname in ['50ohm', '150ohm', 'open', 'short']:\n",
    "    data = numpy.loadtxt('casador/{}.csv'.format(fname),\n",
    "                         delimiter=',', skiprows=44)\n",
    "    ax.plot(data[:, 0] * 1e-6, data[:, 1])\n",
    "\n",
    "ax.legend([r'$50\\,\\Omega$', r'$150\\,\\Omega$', 'Open', 'Short'])\n",
    "ax.set_xlabel('Frequency (MHz)')\n",
    "ax.set_ylabel('Power (dBm)')\n",
    "ax.grid()"
   ]
  },
  {
   "cell_type": "markdown",
   "metadata": {},
   "source": [
    "Verificamos que o curto e o aberto apresentam aproximadamente o mesmo sinal, como esperado pela teoria.\n",
    "Sabemos que esses valores deveriam representar reflexão total, portanto podemos usá-los como referência para descontar as perdas nos cabos e isoladores utilizados na montagem experimental.\n",
    "\n",
    "Como as curvas são bastante planas, usaremos o valor médio de uma delas como referência.\n",
    "\n",
    "Alternativamente poderíamos usar o vetor completo, com um valor de referência para cada frequência, mas neste caso o resultado seria muito similar."
   ]
  },
  {
   "cell_type": "code",
   "execution_count": null,
   "metadata": {
    "collapsed": true
   },
   "outputs": [],
   "source": [
    "short = numpy.loadtxt('casador/short.csv', delimiter=',',\n",
    "                      skiprows=44, usecols=1)\n",
    "short.shape"
   ]
  },
  {
   "cell_type": "code",
   "execution_count": null,
   "metadata": {
    "collapsed": true
   },
   "outputs": [],
   "source": [
    "reference = short.mean()\n",
    "reference"
   ]
  },
  {
   "cell_type": "markdown",
   "metadata": {},
   "source": [
    "Usamos 2 *loops* para carregar os sinais medidos para cada configuração de casador.\n",
    "\n",
    "Os valores de `d` e `l` nos nomes dos arquivos indicam os comprimentos (em centímetros) dos cabos coaxiais utilizados como separador da carga e toco em curto, respectivamente."
   ]
  },
  {
   "cell_type": "code",
   "execution_count": null,
   "metadata": {
    "collapsed": true
   },
   "outputs": [],
   "source": [
    "fig, ax = pyplot.subplots(1, 1)\n",
    "\n",
    "for d in range(23, 28):\n",
    "    for l in range(16, 21):\n",
    "        data = numpy.loadtxt('casador/d{}-l{}.csv'.format(d, l),\n",
    "                             delimiter=',', skiprows=44)\n",
    "        ax.plot(data[:, 0] * 1e-6, data[:, 1] - reference,\n",
    "                label='d = {} cm, l = {} cm'.format(d, l))\n",
    "\n",
    "ax.legend()\n",
    "ax.set_xlabel('Frequency (MHz)')\n",
    "ax.set_ylabel('Reflection (dB)')\n",
    "ax.grid()"
   ]
  },
  {
   "cell_type": "markdown",
   "metadata": {},
   "source": [
    "Mesmo que a legenda não fosse mostrada, o gráfico está muito poluído e não permite que se conclua nada sobre o experimento.\n",
    "\n",
    "Considerando que temos 3 variáveis independentes (`d`, `l` e a frequência), precisamos considerar o que buscamos medir para determinar a melhor maneira de visualizar os dados.\n",
    "\n",
    "Primeiramente carregamos os dados de forma a evidenciar os 3 eixos de variveis independentes (isso só funciona porque todos os dados apresentam os mesmos valores de amostragem em frequência)."
   ]
  },
  {
   "cell_type": "code",
   "execution_count": null,
   "metadata": {
    "collapsed": true
   },
   "outputs": [],
   "source": [
    "d = numpy.arange(23, 28)\n",
    "l = numpy.arange(16, 21)\n",
    "for dd in d:\n",
    "    for ll in l:\n",
    "        if dd == 23 and ll == 16:\n",
    "            data = numpy.loadtxt('casador/d{}-l{}.csv'.format(dd, ll),\n",
    "                             delimiter=',', skiprows=44)\n",
    "            freq = data[:, 0] * 1e-6\n",
    "            refl = numpy.zeros((len(freq), 5, 5)) - reference\n",
    "            refl[:, 0, 0] += data[:, 1]\n",
    "        else:\n",
    "            refl[:, ll - 16, dd - 23] += numpy.loadtxt(\n",
    "                'casador/d{}-l{}.csv'.format(dd, ll),\n",
    "                delimiter=',', skiprows=44, usecols=1)\n",
    "\n",
    "print(freq.shape, l.shape, d.shape, refl.shape)"
   ]
  },
  {
   "cell_type": "markdown",
   "metadata": {},
   "source": [
    "Vamos inicialmente analisar como os casadores se comportam se nosso objetivo fosse melhorar o casamento em 120 MHz.\n",
    "\n",
    "Faremos um corte nos dado no eixo da frequência.\n",
    "Para tanto precisamos determinar o índice da frequência desejada (ou o mais próximo possível)."
   ]
  },
  {
   "cell_type": "code",
   "execution_count": null,
   "metadata": {
    "collapsed": true
   },
   "outputs": [],
   "source": [
    "i = numpy.argmin(numpy.abs(freq - 120))\n",
    "i, freq[i]"
   ]
  },
  {
   "cell_type": "code",
   "execution_count": null,
   "metadata": {
    "collapsed": true
   },
   "outputs": [],
   "source": [
    "fig, ax = pyplot.subplots(1, 1)\n",
    "\n",
    "ax.imshow(refl[i, :, :], origin='lower')"
   ]
  },
  {
   "cell_type": "code",
   "execution_count": null,
   "metadata": {
    "collapsed": true
   },
   "outputs": [],
   "source": [
    "fig, ax = pyplot.subplots(1, 1)\n",
    "\n",
    "cax = ax.imshow(refl[i, :, :], origin='lower', cmap='magma',\n",
    "                extent=(d[0]-0.5, d[-1]+0.5, l[0]-0.5, l[-1]+0.5))\n",
    "pyplot.colorbar(cax, label='Reflection (dB)')\n",
    "\n",
    "ax.set_xlabel('d (cm)')\n",
    "ax.set_ylabel('l (cm)')"
   ]
  },
  {
   "cell_type": "markdown",
   "metadata": {},
   "source": [
    "Uma alternativa ainda mais quantitativa é usar contornos, mas cuidado com artefatos."
   ]
  },
  {
   "cell_type": "code",
   "execution_count": null,
   "metadata": {
    "collapsed": true
   },
   "outputs": [],
   "source": [
    "fig, ax = pyplot.subplots(1, 1)\n",
    "\n",
    "cax = ax.contourf(d, l, refl[i, :, :])\n",
    "pyplot.colorbar(cax, label='Reflection (dB)')\n",
    "\n",
    "ax.set_xlabel('d (cm)')\n",
    "ax.set_ylabel('l (cm)')"
   ]
  },
  {
   "cell_type": "code",
   "execution_count": null,
   "metadata": {
    "collapsed": true
   },
   "outputs": [],
   "source": [
    "fig, ax = pyplot.subplots(1, 1)\n",
    "\n",
    "cax = ax.contour(d, l, refl[i, :, :])\n",
    "ax.clabel(cax, fmt='%.1f', fontsize='small')\n",
    "\n",
    "ax.set_xlabel('d (cm)')\n",
    "ax.set_ylabel('l (cm)')"
   ]
  },
  {
   "cell_type": "markdown",
   "metadata": {},
   "source": [
    "E se buscássemos o mínimo de reflexão para cada configuração de casador sem nos importar com a sua frequência central?\n",
    "\n",
    "Por exemplo, para o casado com d = 23 cm e l = 16 cm, obteríamos:"
   ]
  },
  {
   "cell_type": "code",
   "execution_count": null,
   "metadata": {
    "collapsed": true
   },
   "outputs": [],
   "source": [
    "refl[:, 0, 0].min()"
   ]
  },
  {
   "cell_type": "code",
   "execution_count": null,
   "metadata": {
    "collapsed": true
   },
   "outputs": [],
   "source": [
    "fig, ax = pyplot.subplots(1, 1)\n",
    "\n",
    "cax = ax.contourf(d, l, refl.min(axis=0))\n",
    "pyplot.colorbar(cax, label='Reflection (dB)')\n",
    "\n",
    "ax.set_xlabel('d (cm)')\n",
    "ax.set_ylabel('l (cm)')"
   ]
  },
  {
   "cell_type": "markdown",
   "metadata": {},
   "source": [
    "Por fim, queremos agora saber em que freqências cada um dos mínimos ocorre."
   ]
  },
  {
   "cell_type": "code",
   "execution_count": null,
   "metadata": {
    "collapsed": true
   },
   "outputs": [],
   "source": [
    "refl.argmin(axis=0)"
   ]
  },
  {
   "cell_type": "code",
   "execution_count": null,
   "metadata": {
    "collapsed": true
   },
   "outputs": [],
   "source": [
    "refl[841, 0, 0] == refl[:, 0, 0].min()"
   ]
  },
  {
   "cell_type": "code",
   "execution_count": null,
   "metadata": {
    "collapsed": true
   },
   "outputs": [],
   "source": [
    "freq[refl.argmin(axis=0)]"
   ]
  },
  {
   "cell_type": "code",
   "execution_count": null,
   "metadata": {
    "collapsed": true
   },
   "outputs": [],
   "source": [
    "fig, ax = pyplot.subplots(1, 1)\n",
    "\n",
    "cax = ax.contour(d, l, freq[refl.argmin(axis=0)])\n",
    "ax.clabel(cax, fmt='%.0f MHz', fontsize='small')\n",
    "\n",
    "ax.set_xlabel('d (cm)')\n",
    "ax.set_ylabel('l (cm)')"
   ]
  },
  {
   "cell_type": "markdown",
   "metadata": {},
   "source": [
    "## Exercício\n",
    "\n",
    "Sobreponha os gráficos de mínimo de reflexão e frequência onde ocorre o mínimo de forma a apresentar ambas as informções simultaneamente.\n",
    "\n",
    "### Bônus\n",
    "\n",
    "Formate o gráfico de modo a possibilitar a mesma compreensão caso ele seja impresso em preto-e-branco."
   ]
  },
  {
   "cell_type": "code",
   "execution_count": null,
   "metadata": {
    "collapsed": true
   },
   "outputs": [],
   "source": []
  },
  {
   "cell_type": "markdown",
   "metadata": {},
   "source": [
    "## Curiosidade: Modelo Teórico"
   ]
  },
  {
   "cell_type": "code",
   "execution_count": null,
   "metadata": {
    "collapsed": true
   },
   "outputs": [],
   "source": [
    "f, l, d = numpy.mgrid[100:140:81j, 16:21:121j, 23:28:121j]\n",
    "lda = 2.0e4 / f\n",
    "\n",
    "zL = (134 - 40j) / 50.0\n",
    "gL = (zL - 1) / (zL + 1)\n",
    "gd = gL * numpy.exp(-numpy.pi*4j*d/lda)\n",
    "zd = (1 + gd) / (1 - gd)\n",
    "\n",
    "zs = 0\n",
    "gs = (zs - 1) / (zs + 1)\n",
    "gl = gs * numpy.exp(-numpy.pi*4j*l/lda)\n",
    "zl = (1 + gl) / (1 - gl)\n",
    "\n",
    "zin = 1 / (1/zd + 1/zl)\n",
    "gin = (zin - 1) / (zin + 1)\n",
    "refl = 20*numpy.log10(numpy.abs(gin))\n",
    "\n",
    "fig, ax = pyplot.subplots(1, 1)\n",
    "\n",
    "cax = ax.contourf(d[0,0,:], l[0,:,0], refl.min(axis=0), cmap='gray',\n",
    "                 levels=numpy.arange(-40, -19, 2.5), extend='min')\n",
    "pyplot.colorbar(cax, label='Reflection (dB)')\n",
    "\n",
    "cax = ax.contour(d[0,0,:], l[0,:,0], f[:,0,0][refl.argmin(axis=0)],\n",
    "                 cmap='winter')\n",
    "ax.clabel(cax, fmt='%.0f MHz', fontsize='small')\n",
    "\n",
    "ax.set_xlabel(r\"$d$ (cm)\")\n",
    "ax.set_ylabel(r\"$\\ell$ (cm)\")\n",
    "\n",
    "ax.set_aspect(1)"
   ]
  }
 ],
 "metadata": {
  "kernelspec": {
   "display_name": "Python 3",
   "language": "python",
   "name": "python3"
  },
  "language_info": {
   "codemirror_mode": {
    "name": "ipython",
    "version": 3
   },
   "file_extension": ".py",
   "mimetype": "text/x-python",
   "name": "python",
   "nbconvert_exporter": "python",
   "pygments_lexer": "ipython3",
   "version": "3.6.2"
  }
 },
 "nbformat": 4,
 "nbformat_minor": 2
}
